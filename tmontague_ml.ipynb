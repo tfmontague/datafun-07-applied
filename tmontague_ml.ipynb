{
 "cells": [
  {
   "cell_type": "markdown",
   "metadata": {},
   "source": [
    "# Title: Project 7: Apply Supervised Machine Learning - Simple Linear Regression\n",
    "\n",
    "## 1. Project Introduction\n",
    "**Author:** Topaz Montague\n",
    "\n",
    "**Project Repository Link:** [datafun-07-applied](https://github.com/tfmontague/datafun-07-applied)"
   ]
  },
  {
   "cell_type": "markdown",
   "metadata": {},
   "source": [
    "## 2. Import Dependencies"
   ]
  },
  {
   "cell_type": "code",
   "execution_count": null,
   "metadata": {},
   "outputs": [],
   "source": [
    "import pandas\n",
    "import seaborn\n",
    "import matplotlib"
   ]
  }
 ],
 "metadata": {
  "kernelspec": {
   "display_name": ".venv",
   "language": "python",
   "name": "python3"
  },
  "language_info": {
   "name": "python",
   "version": "3.12.1"
  }
 },
 "nbformat": 4,
 "nbformat_minor": 2
}
