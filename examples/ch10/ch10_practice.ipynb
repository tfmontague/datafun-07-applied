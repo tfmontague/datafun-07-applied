{
 "cells": [
  {
   "cell_type": "code",
   "execution_count": 1,
   "metadata": {},
   "outputs": [
    {
     "data": {
      "text/plain": [
       "'John Green'"
      ]
     },
     "execution_count": 1,
     "metadata": {},
     "output_type": "execute_result"
    }
   ],
   "source": [
    "from account import Account\n",
    "from decimal import Decimal\n",
    "account1 = Account('John Green', Decimal('50.00'))\n",
    "account1.name"
   ]
  },
  {
   "cell_type": "code",
   "execution_count": 2,
   "metadata": {},
   "outputs": [
    {
     "data": {
      "text/plain": [
       "Decimal('50.00')"
      ]
     },
     "execution_count": 2,
     "metadata": {},
     "output_type": "execute_result"
    }
   ],
   "source": [
    "account1.balance"
   ]
  },
  {
   "cell_type": "code",
   "execution_count": 4,
   "metadata": {},
   "outputs": [
    {
     "data": {
      "text/plain": [
       "Decimal('101.06')"
      ]
     },
     "execution_count": 4,
     "metadata": {},
     "output_type": "execute_result"
    }
   ],
   "source": [
    "account1.deposit(Decimal('25.53'))\n",
    "account1.balance"
   ]
  },
  {
   "cell_type": "code",
   "execution_count": 5,
   "metadata": {},
   "outputs": [
    {
     "ename": "ValueError",
     "evalue": "amount must be positive.",
     "output_type": "error",
     "traceback": [
      "\u001b[1;31m---------------------------------------------------------------------------\u001b[0m",
      "\u001b[1;31mValueError\u001b[0m                                Traceback (most recent call last)",
      "Cell \u001b[1;32mIn[5], line 1\u001b[0m\n\u001b[1;32m----> 1\u001b[0m \u001b[43maccount1\u001b[49m\u001b[38;5;241;43m.\u001b[39;49m\u001b[43mdeposit\u001b[49m\u001b[43m(\u001b[49m\u001b[43mDecimal\u001b[49m\u001b[43m(\u001b[49m\u001b[38;5;124;43m'\u001b[39;49m\u001b[38;5;124;43m-123.45\u001b[39;49m\u001b[38;5;124;43m'\u001b[39;49m\u001b[43m)\u001b[49m\u001b[43m)\u001b[49m\n",
      "File \u001b[1;32mc:\\Users\\topaz\\Documents\\IntroToPython\\examples\\ch10\\account.py:23\u001b[0m, in \u001b[0;36mAccount.deposit\u001b[1;34m(self, amount)\u001b[0m\n\u001b[0;32m     21\u001b[0m \u001b[38;5;66;03m# if amount is less than 0.00, raise an exception\u001b[39;00m\n\u001b[0;32m     22\u001b[0m \u001b[38;5;28;01mif\u001b[39;00m amount \u001b[38;5;241m<\u001b[39m Decimal(\u001b[38;5;124m'\u001b[39m\u001b[38;5;124m0.00\u001b[39m\u001b[38;5;124m'\u001b[39m):\n\u001b[1;32m---> 23\u001b[0m     \u001b[38;5;28;01mraise\u001b[39;00m \u001b[38;5;167;01mValueError\u001b[39;00m(\u001b[38;5;124m'\u001b[39m\u001b[38;5;124mamount must be positive.\u001b[39m\u001b[38;5;124m'\u001b[39m)\n\u001b[0;32m     25\u001b[0m \u001b[38;5;28mself\u001b[39m\u001b[38;5;241m.\u001b[39mbalance \u001b[38;5;241m+\u001b[39m\u001b[38;5;241m=\u001b[39m amount\n",
      "\u001b[1;31mValueError\u001b[0m: amount must be positive."
     ]
    }
   ],
   "source": [
    "account1.deposit(Decimal('-123.45'))"
   ]
  },
  {
   "cell_type": "code",
   "execution_count": 6,
   "metadata": {},
   "outputs": [
    {
     "name": "stdout",
     "output_type": "stream",
     "text": [
      "\u001b[1;31mInit signature:\u001b[0m \u001b[0mAccount\u001b[0m\u001b[1;33m(\u001b[0m\u001b[0mname\u001b[0m\u001b[1;33m,\u001b[0m \u001b[0mbalance\u001b[0m\u001b[1;33m)\u001b[0m\u001b[1;33m\u001b[0m\u001b[1;33m\u001b[0m\u001b[0m\n",
      "\u001b[1;31mDocstring:\u001b[0m      Account class for maintaining a bank account balance.\n",
      "\u001b[1;31mInit docstring:\u001b[0m Initialize an Account object.\n",
      "\u001b[1;31mFile:\u001b[0m           c:\\users\\topaz\\documents\\introtopython\\examples\\ch10\\account.py\n",
      "\u001b[1;31mType:\u001b[0m           type\n",
      "\u001b[1;31mSubclasses:\u001b[0m     "
     ]
    }
   ],
   "source": [
    "Account?"
   ]
  },
  {
   "cell_type": "code",
   "execution_count": 9,
   "metadata": {},
   "outputs": [
    {
     "name": "stdout",
     "output_type": "stream",
     "text": [
      "6:30:00 AM\n"
     ]
    }
   ],
   "source": [
    "from timewithproperties import Time\n",
    "wake_up = Time(hour=6, minute=30)\n",
    "wake_up\n",
    "print(wake_up)"
   ]
  },
  {
   "cell_type": "code",
   "execution_count": 12,
   "metadata": {},
   "outputs": [
    {
     "data": {
      "text/plain": [
       "(12, 30, 45)"
      ]
     },
     "execution_count": 12,
     "metadata": {},
     "output_type": "execute_result"
    }
   ],
   "source": [
    "from timewithproperties import Time\n",
    "t = Time()\n",
    "t\n",
    "t.time = (12, 30, 45)\n",
    "t\n",
    "t.time"
   ]
  },
  {
   "cell_type": "code",
   "execution_count": 13,
   "metadata": {},
   "outputs": [
    {
     "data": {
      "text/plain": [
       "'public'"
      ]
     },
     "execution_count": 13,
     "metadata": {},
     "output_type": "execute_result"
    }
   ],
   "source": [
    "from private import PrivateClass\n",
    "my_object = PrivateClass()\n",
    "my_object.public_data"
   ]
  },
  {
   "cell_type": "code",
   "execution_count": 16,
   "metadata": {},
   "outputs": [
    {
     "name": "stdout",
     "output_type": "stream",
     "text": [
      "Ace of Hearts      2 of Hearts        3 of Hearts        4 of Hearts        \n",
      "5 of Hearts        6 of Hearts        7 of Hearts        8 of Hearts        \n",
      "9 of Hearts        10 of Hearts       Jack of Hearts     Queen of Hearts    \n",
      "King of Hearts     Ace of Diamonds    2 of Diamonds      3 of Diamonds      \n",
      "4 of Diamonds      5 of Diamonds      6 of Diamonds      7 of Diamonds      \n",
      "8 of Diamonds      9 of Diamonds      10 of Diamonds     Jack of Diamonds   \n",
      "Queen of Diamonds  King of Diamonds   Ace of Clubs       2 of Clubs         \n",
      "3 of Clubs         4 of Clubs         5 of Clubs         6 of Clubs         \n",
      "7 of Clubs         8 of Clubs         9 of Clubs         10 of Clubs        \n",
      "Jack of Clubs      Queen of Clubs     King of Clubs      Ace of Spades      \n",
      "2 of Spades        3 of Spades        4 of Spades        5 of Spades        \n",
      "6 of Spades        7 of Spades        8 of Spades        9 of Spades        \n",
      "10 of Spades       Jack of Spades     Queen of Spades    King of Spades     \n",
      "\n",
      "10 of Diamonds     10 of Spades       9 of Spades        4 of Clubs         \n",
      "5 of Clubs         9 of Diamonds      Jack of Spades     4 of Spades        \n",
      "8 of Hearts        King of Hearts     2 of Clubs         King of Spades     \n",
      "Ace of Spades      5 of Hearts        6 of Clubs         King of Clubs      \n",
      "7 of Spades        8 of Clubs         2 of Hearts        2 of Spades        \n",
      "Queen of Hearts    8 of Spades        4 of Hearts        7 of Hearts        \n",
      "9 of Hearts        8 of Diamonds      Queen of Diamonds  9 of Clubs         \n",
      "10 of Hearts       Queen of Clubs     2 of Diamonds      Ace of Hearts      \n",
      "Queen of Spades    3 of Hearts        3 of Diamonds      3 of Spades        \n",
      "4 of Diamonds      10 of Clubs        3 of Clubs         7 of Diamonds      \n",
      "Ace of Clubs       5 of Diamonds      5 of Spades        Jack of Hearts     \n",
      "King of Diamonds   Jack of Clubs      Ace of Diamonds    7 of Clubs         \n",
      "6 of Spades        6 of Diamonds      Jack of Diamonds   6 of Hearts        \n",
      "\n"
     ]
    },
    {
     "data": {
      "text/plain": [
       "'10_of_Spades.png'"
      ]
     },
     "execution_count": 16,
     "metadata": {},
     "output_type": "execute_result"
    }
   ],
   "source": [
    "from deck import DeckOfCards\n",
    "deck_of_cards = DeckOfCards()\n",
    "print(deck_of_cards)\n",
    "deck_of_cards.shuffle()\n",
    "print(deck_of_cards)\n",
    "deck_of_cards.deal_card()\n",
    "card = deck_of_cards.deal_card()\n",
    "str(card)\n",
    "card.image_name"
   ]
  },
  {
   "cell_type": "code",
   "execution_count": 21,
   "metadata": {},
   "outputs": [
    {
     "name": "stdout",
     "output_type": "stream",
     "text": [
      "Using matplotlib backend: TkAgg\n"
     ]
    }
   ],
   "source": [
    "from deck import DeckOfCards\n",
    "deck_of_cards = DeckOfCards()\n",
    "%matplotlib\n",
    "from pathlib import Path\n",
    "path = Path('.').joinpath('card_images')\n",
    "import matplotlib.pyplot as plt\n",
    "import matplotlib.image as mpimg\n",
    "figure, axes_list = plt.subplots(nrows=4, ncols=13)\n",
    "for axes in axes_list.ravel():\n",
    "    axes.get_xaxis().set_visible(False)\n",
    "    axes.get_yaxis().set_visible(False)\n",
    "    image_name = deck_of_cards.deal_card().image_name\n",
    "    img = mpimg.imread(str(path.joinpath(image_name).resolve()))\n",
    "    axes.imshow(img)\n",
    "figure.tight_layout()\n",
    "deck_of_cards.shuffle()\n",
    "for axes in axes_list.ravel():\n",
    "    axes.get_xaxis().set_visible(False)\n",
    "    axes.get_yaxis().set_visible(False)\n",
    "    image_name = deck_of_cards.deal_card().image_name\n",
    "    img = mpimg.imread(str(path.joinpath(image_name).resolve()))\n",
    "    axes.imshow(img)"
   ]
  }
 ],
 "metadata": {
  "kernelspec": {
   "display_name": "Python 3",
   "language": "python",
   "name": "python3"
  },
  "language_info": {
   "codemirror_mode": {
    "name": "ipython",
    "version": 3
   },
   "file_extension": ".py",
   "mimetype": "text/x-python",
   "name": "python",
   "nbconvert_exporter": "python",
   "pygments_lexer": "ipython3",
   "version": "3.12.1"
  }
 },
 "nbformat": 4,
 "nbformat_minor": 2
}
